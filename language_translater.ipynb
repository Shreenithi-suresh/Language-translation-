{
 "cells": [
  {
   "cell_type": "code",
   "execution_count": null,
   "id": "01015475",
   "metadata": {},
   "outputs": [],
   "source": [
    "from tkinter import *\n",
    "from tkinter import ttk,messagebox\n",
    "import googletrans\n",
    "import textblob\n",
    "language=googletrans.LANGUAGES\n",
    "lang_value=list(language.values())\n",
    "lang1=language.keys()\n",
    "window = Tk()\n",
    "window.title(\"DataFlair Language Translation\")\n",
    "window.minsize(600,500)\n",
    "window.maxsize(600,500)\n",
    "combo1=ttk.Combobox(window,values=lang_value,state='r')\n",
    "combo1.place(x=100,y=20)\n",
    "combo1.set(\"choose a language\")\n",
    "\n",
    "f1=Frame(window,bg='black',bd=4)\n",
    "f1.place(x=100,y=100,width=150,height=150)\n",
    "\n",
    "text1=Text(f1,font=\"Roboto 14\",bg='white',relief=GROOVE,wrap=WORD)\n",
    "text1.place(x=0,y=0,width=140,height=140)\n",
    "\n",
    "combo2=ttk.Combobox(window,values=lang_value,state='r')\n",
    "combo2.place(x=300,y=20)\n",
    "combo2.set(\"choose a language\")\n",
    "\n",
    "f2=Frame(window,bg='black',bd=4)\n",
    "f2.place(x=300,y=100,width=150,height=150)\n",
    "\n",
    "text2=Text(f2,font=\"Roboto 14\",bg='white',relief=GROOVE,wrap=WORD)\n",
    "text2.place(x=0,y=0,width=140,height=140)\n",
    "\n",
    "button = Button(window,text='Translate',font=('normal',15), bg='yellow', command=translate)\n",
    "button.place(x=230,y=300)# button which when triggered performs translation\n",
    "def translate():\n",
    "\n",
    " global language\n",
    " try:\n",
    "    txt=text1.get(1.0,END)\n",
    "    c1=combo1.get()\n",
    "    c2=combo2.get()\n",
    "    if(txt):\n",
    "      words=textblob.TextBlob(txt)\n",
    "      lan=words.detect_language()\n",
    "      for i,j in language.items():\n",
    "        if(j==c2):\n",
    "         lan_=i\n",
    "      words=words.translate(from_lang=lan,to=str(lan_))\n",
    "      text2.delete(1.0,END)\n",
    "      text2.insert(END,words)\n",
    "except Exception as e:\n",
    "   messagebox.showerror(\"try again\")\n",
    "window.configure\n",
    "window.mainloop()"
   ]
  }
 ],
 "metadata": {
  "kernelspec": {
   "display_name": "Python 3 (ipykernel)",
   "language": "python",
   "name": "python3"
  },
  "language_info": {
   "codemirror_mode": {
    "name": "ipython",
    "version": 3
   },
   "file_extension": ".py",
   "mimetype": "text/x-python",
   "name": "python",
   "nbconvert_exporter": "python",
   "pygments_lexer": "ipython3",
   "version": "3.11.5"
  }
 },
 "nbformat": 4,
 "nbformat_minor": 5
}
